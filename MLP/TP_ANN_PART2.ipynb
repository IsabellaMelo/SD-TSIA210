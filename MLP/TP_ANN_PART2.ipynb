{
 "cells": [
  {
   "cell_type": "markdown",
   "metadata": {
    "id": "RIjFqlgERHAq"
   },
   "source": [
    "# TP ANN (part B)\n",
    "\n",
    "## Coding a Multi-Layer Perceptron with Tensorflow\n",
    "Author : Alasdair Newson"
   ]
  },
  {
   "cell_type": "markdown",
   "metadata": {
    "id": "oG_lwX5GRHAs"
   },
   "source": [
    "In the second part of this TP, we will be looking at the Multi-Layer Perceptron (MLP) using Tensorflow (http://www.tensorflow.org)\n",
    "\n",
    "We will be using the following packages :\n",
    "   \n",
    "   - Scikit-learn (http://scikit-learn.org/)\n",
    "   - Tensorflow (http://www.tensorflow.org)\n",
    "\n",
    "The following commands will make sure that you have all the necessary packages"
   ]
  },
  {
   "cell_type": "code",
   "execution_count": 1,
   "metadata": {
    "colab": {
     "base_uri": "https://localhost:8080/"
    },
    "id": "sCGFw05kRHAs",
    "outputId": "3a24c407-ad57-44ad-f02e-ec22825e41e1"
   },
   "outputs": [
    {
     "name": "stdout",
     "output_type": "stream",
     "text": [
      "2.4.0\n"
     ]
    }
   ],
   "source": [
    "%matplotlib inline                      \n",
    "\n",
    "import numpy as np\n",
    "import matplotlib.pyplot as plt\n",
    "import os\n",
    "import pdb\n",
    "\n",
    "import sklearn  # scikit-learn\n",
    "import tensorflow as tf\n",
    "\n",
    "# import tensorflow models\n",
    "from tensorflow.keras.models import Sequential, Model\n",
    "from tensorflow.keras.layers import Dense, Dropout, Activation, Flatten, Input\n",
    "from tensorflow.keras.layers import Conv2D, MaxPooling2D\n",
    "from tensorflow.keras import optimizers\n",
    "print(tf.keras.__version__)"
   ]
  },
  {
   "cell_type": "markdown",
   "metadata": {
    "id": "dxgAcMrMRHAt"
   },
   "source": [
    "# 1 - Multi-Layer Perceptron with Tensorflow"
   ]
  },
  {
   "cell_type": "markdown",
   "metadata": {
    "id": "OjK-B5mkRHAt"
   },
   "source": [
    "## Introduction to TensorFlow"
   ]
  },
  {
   "cell_type": "markdown",
   "metadata": {
    "id": "gzVmdesCRHAu"
   },
   "source": [
    "Tensorflow is an environment written by Google which allows easy implementation of deep neural networks. In particular, it provides automatic differentiation so that the user does not have to determine gradients manually, which can be extremely long even for simple networks, as you have seen in the previous TP*.\n",
    "\n",
    "This, in turn allows a user to apply techniques such as stochastic gradient descent for training purposes. The differentiation graph is created symbolically when the network is created. Since a neural network is simply a cascade (or concatenation) of simple functions, the network in Tensorflow is simply a sequence of functions which are applied to one or several variables. The output of the final function is the output of the network.\n",
    "\n",
    "For instance, if the input were ```x``` and the network consisted of two functions ```a``` and ```b```, you could create the network simply by writing :\n",
    "\n",
    "```y = b(a(x))```\n",
    "\n",
    "However, it is clear that these functions and variables must be of some special type, so that the computer can figure out how to carry out the automatic differentiation for training. Tensorflow provides these functions and variables, which must be created with the Tensorflow package.\n",
    "\n",
    "Previously, Tensorflow required a strict separation between the creation (declaration) of variables and their execution (giving a numerical value, using the ```Session``` function). With Keras and Tensorflow 2, this separation has been removed, and the language has become simpler, in particular for creating and training networks.\n",
    "\n",
    "## Creating a network\n",
    "\n",
    "To create a network, there are two (main) methods :\n",
    "\n",
    "### Creating a model using the Sequential API\n",
    "\n",
    "Tensorflow has a simple way of adding layers to create a neural network. First, you can indicate to Tensorflow that the model is 'sequential' (a simple model, with not many tweaks). For this, you can use the following function :\n",
    "- ```model = Sequential()```\n",
    "\n",
    "After this, you can add layers with the function.\n",
    "\n",
    "- ```model.add()```\n",
    "\n",
    "You can then use the ```Dense``` (and other) functions to specify different layer types.  __Note that in the case of this approach, you will have to specify the input image size in the first layer of the network, inside the first layer function.__ So, for example, if the first layer is a dense layer with a relu activation, with n_out output neurons, and n_input neurons :\n",
    "\n",
    "- model = Sequential()\n",
    "- model.add(Dense(n_out,activation,input_shape=(n_in,),activation='relu'))\n",
    "\n",
    "Otherwise, the network does not know how many weights to create. __Be careful of this special case (the first layer)__ \n",
    "\n",
    "### Creating a model using the standard API\n",
    "\n",
    "Otherwise, another approach to creating the model is to explicitly create the input variable, and just cascade the different functions, as in Tensorflow. So, for the same example, we would have :\n",
    "\n",
    "- input = Input(shape=(n_in,))\n",
    "- output = Dense(n_in,n_out,activation='relu')(input)\n",
    "- model = Model(input, output)\n",
    "\n",
    "\n",
    "For now, let's use the Sequential API (however, if you want to try the standard API, go ahead).\n",
    "\n",
    "## Training and testing a network\n",
    "\n",
    "Tensorflow allows the easy training of a network with the following functions :\n",
    "\n",
    "- model.compile(loss='binary_crossentropy', optimizer=optimizers.Adam(lr=learning_rate)) : create the loss function and define the optimiser used. This function can do many other useful things (such as specifying different metrics to look at the model's performance\n",
    "\n",
    "- model.fit(...) : train the model\n",
    "- model.evaluate(...) : test the model\n",
    "- model.predict(...) : carry out a simple forward pass on the model\n",
    "\n",
    "Please look at the Tensorflow documenation for further details on these functions.\n"
   ]
  },
  {
   "cell_type": "markdown",
   "metadata": {
    "id": "UYFxzt5mRHAy"
   },
   "source": [
    "# MLP with TensorFlow\n",
    "\n",
    "We are now going to create an MLP with tensorflow. We will start with an MLP with one hidden layer. The network should consist of the following operations, in the following order :\n",
    "\n",
    "- Fully connected layer, with weights w1 and biases b1\n",
    "- ReLU activation\n",
    "- Fully connected layer, with weights w2 and biases b2\n",
    "- Sigmoid output activation\n",
    "\n",
    "We are going to be solving a binary classification \n",
    "problem, so the output of the network should be a scalar between 0 and 1 (thus the last layer is a Sigmoid activation).\n",
    "\n",
    "The loss function should be defined as the binary cross-entropy between the predicted class and the true class\n"
   ]
  },
  {
   "cell_type": "markdown",
   "metadata": {
    "id": "jdGVzE6NRHAy"
   },
   "source": [
    "First, we load the data."
   ]
  },
  {
   "cell_type": "code",
   "execution_count": 2,
   "metadata": {
    "colab": {
     "base_uri": "https://localhost:8080/",
     "height": 265
    },
    "id": "EfiJwuLmRHAy",
    "outputId": "63c24cc4-5ba9-44a3-b250-a80ae1ffb4ac"
   },
   "outputs": [
    {
     "data": {
      "image/png": "[encoded data removed]",
      "text/plain": [
       "<Figure size 432x288 with 1 Axes>"
      ]
     },
     "metadata": {
      "needs_background": "light",
      "tags": []
     },
     "output_type": "display_data"
    }
   ],
   "source": [
    "from sklearn import datasets\n",
    "from sklearn.preprocessing import MinMaxScaler\n",
    "from sklearn.model_selection import train_test_split\n",
    "\n",
    "X, Y = datasets.make_circles(n_samples=1000, noise=0.05, factor=0.5)\n",
    "# X, y = datasets.make_moons(n_samples=1000, random_state=42)  # try with 2 moons\n",
    "X = MinMaxScaler().fit_transform(X)\n",
    "\n",
    "#show data in plot\n",
    "plt.plot(X[Y == 1, 0], X[Y == 1, 1], 'ro')\n",
    "plt.plot(X[Y == 0, 0], X[Y == 0, 1], 'bo')\n",
    "plt.grid('on')"
   ]
  },
  {
   "cell_type": "markdown",
   "metadata": {
    "id": "cRL1c6UyRHAy"
   },
   "source": [
    "We are now going to define some useful auxillary functions.\n",
    "\n",
    "First, a function that shows the decision boundary of our network. This works only for 2D input data"
   ]
  },
  {
   "cell_type": "code",
   "execution_count": 3,
   "metadata": {
    "id": "x0cUhY8xRHAz"
   },
   "outputs": [],
   "source": [
    "# THIS CODE IS GIVEN\n",
    "\n",
    "def plot_decision_function_2d(model_mlp, X, Y):\n",
    "   # create a mesh to plot in\n",
    "    h = .02  # step size in the mesh\n",
    "    offset = 0.1\n",
    "    x_min, x_max = X[:, 0].min() - offset, X[:, 0].max() + offset\n",
    "    y_min, y_max = X[:, 1].min() - offset, X[:, 1].max() + offset\n",
    "    xx, yy = np.meshgrid(np.arange(x_min, x_max, h),\n",
    "                         np.arange(y_min, y_max, h))\n",
    "\n",
    "    # Plot the decision boundary. For that, we will assign a color to each\n",
    "    # point in the mesh [x_min, x_max]x[y_min, y_max].\n",
    "    Z = model_mlp.predict(np.c_[xx.ravel(), yy.ravel()])\n",
    "    print(Z.shape)\n",
    "    print(Z)\n",
    "    \n",
    "    Z = Z<0.5\n",
    "    # Put the result into a color plot\n",
    "    Z = Z.reshape(xx.shape)\n",
    "    plt.figure()\n",
    "    plt.contourf(xx, yy, Z, cmap=plt.cm.Paired)\n",
    "\n",
    "    plt.plot(X[Y == 1, 0], X[Y == 1, 1], 'yo')\n",
    "    plt.plot(X[Y == 0, 0], X[Y == 0, 1], 'ko')\n",
    "\n",
    "    plt.title(\"Decision surface\")\n",
    "    plt.axis('tight')"
   ]
  },
  {
   "cell_type": "markdown",
   "metadata": {
    "id": "CKtZJ5iQRHA0"
   },
   "source": [
    "## CREATING AND TRAINING THE MODEL\n",
    "\n",
    "We are now ready to create our network with a Tensorflow Session and to carry out training on our training dataset."
   ]
  },
  {
   "cell_type": "code",
   "execution_count": 4,
   "metadata": {
    "colab": {
     "base_uri": "https://localhost:8080/"
    },
    "id": "WO8dHtrGRHA0",
    "outputId": "50fed8ea-7f8c-4478-94df-a9fff730bfc0"
   },
   "outputs": [
    {
     "name": "stdout",
     "output_type": "stream",
     "text": [
      "(850, 2)\n",
      "Training\n",
      "Epoch 1/10\n",
      "213/213 [==============================] - 1s 3ms/step - loss: 0.6846 - accuracy: 0.5690\n",
      "Epoch 2/10\n",
      "213/213 [==============================] - 1s 3ms/step - loss: 0.5701 - accuracy: 0.7441\n",
      "Epoch 3/10\n",
      "213/213 [==============================] - 1s 3ms/step - loss: 0.3699 - accuracy: 0.9031\n",
      "Epoch 4/10\n",
      "213/213 [==============================] - 1s 3ms/step - loss: 0.2025 - accuracy: 0.9838\n",
      "Epoch 5/10\n",
      "213/213 [==============================] - 1s 3ms/step - loss: 0.1152 - accuracy: 1.0000\n",
      "Epoch 6/10\n",
      "213/213 [==============================] - 1s 3ms/step - loss: 0.0649 - accuracy: 0.9986\n",
      "Epoch 7/10\n",
      "213/213 [==============================] - 1s 3ms/step - loss: 0.0421 - accuracy: 1.0000\n",
      "Epoch 8/10\n",
      "213/213 [==============================] - 1s 3ms/step - loss: 0.0293 - accuracy: 1.0000\n",
      "Epoch 9/10\n",
      "213/213 [==============================] - 1s 3ms/step - loss: 0.0215 - accuracy: 1.0000\n",
      "Epoch 10/10\n",
      "213/213 [==============================] - 1s 3ms/step - loss: 0.0165 - accuracy: 1.0000\n",
      "Testing\n",
      "5/5 - 0s - loss: 0.0118 - accuracy: 1.0000\n"
     ]
    },
    {
     "data": {
      "text/plain": [
       "[0.01182561181485653, 1.0]"
      ]
     },
     "execution_count": 4,
     "metadata": {
      "tags": []
     },
     "output_type": "execute_result"
    }
   ],
   "source": [
    "# FILL IN CODE BY STUDENTS IN THIS SECTION\n",
    "\n",
    "#We split up the data into training and test data, using a function from Scikit-learn :\n",
    "X_train, X_test, Y_train, Y_test = train_test_split(X, Y, test_size=0.15)\n",
    "print(X_train.shape)\n",
    "\n",
    "# Layer sizes\n",
    "n_input = X.shape[1]  # Number of input features\n",
    "n_hidden = 50  # Number of hidden nodes\n",
    "\n",
    "# create the model (using the sequential API)\n",
    "\n",
    "model_mlp = Sequential([Dense(n_hidden, input_shape=(n_input,), activation='relu'),\n",
    "                        Dense(1, input_shape=(n_hidden,), activation='sigmoid')])   # FILL IN STUDENTS\n",
    "\n",
    "# create the loss and optimiser\n",
    "learning_rate = 0.01\n",
    "model_mlp.compile(loss='binary_crossentropy',\n",
    "                  optimizer=optimizers.Adam(lr=learning_rate),\n",
    "                  metrics=[\"accuracy\"]) # TO FILL IN\n",
    "\n",
    "# Run optimisation algorithm\n",
    "n_epochs = 20\n",
    "batch_size = 64\n",
    "\n",
    "print('Training')\n",
    "model_mlp.fit(X_train, Y_train, epochs=10, batch_size=4) # TO FILL IN\n",
    "\n",
    "print('Testing')\n",
    "model_mlp.evaluate(X_test,  Y_test, verbose=2) # TO FILL IN\n"
   ]
  },
  {
   "cell_type": "code",
   "execution_count": 5,
   "metadata": {
    "colab": {
     "base_uri": "https://localhost:8080/",
     "height": 436
    },
    "id": "lpBaU1rcc0oY",
    "outputId": "9d1ee91e-84c2-4014-a28e-8d9c07c03abb"
   },
   "outputs": [
    {
     "name": "stdout",
     "output_type": "stream",
     "text": [
      "(3422, 1)\n",
      "[[1.2453354e-10]\n",
      " [2.7103830e-10]\n",
      " [5.8989325e-10]\n",
      " ...\n",
      " [3.7619938e-07]\n",
      " [2.1032997e-07]\n",
      " [1.1759352e-07]]\n"
     ]
    },
    {
     "data": {
      "image/png": "[encoded data removed]",
      "text/plain": [
       "<Figure size 432x288 with 1 Axes>"
      ]
     },
     "metadata": {
      "needs_background": "light",
      "tags": []
     },
     "output_type": "display_data"
    }
   ],
   "source": [
    "plot_decision_function_2d(model_mlp, X_test, Y_test)"
   ]
  },
  {
   "cell_type": "markdown",
   "metadata": {
    "id": "6oni6Q5vRHA0"
   },
   "source": [
    "# MLP with several hidden layers\n",
    "\n",
    "We are now going to create an MLP with several hidden layers. We are going to use a more complicated dataset : the MNIST dataset, which contains images of handwritten digits. There are 10 classes, one for each digit.\n",
    "\n",
    "We are going to implement the following architecture :\n",
    "\n",
    "- Fully connected layer\n",
    "- Relu activation\n",
    "- Fully connected layer\n",
    "- Relu activation\n",
    "- Fully connected layer\n",
    "- Relu activation\n",
    "- Fully connected layer\n",
    "- Softmax output activation\n",
    "\n",
    "__IMPORTANT Note__ The sigmoid layer has been replaced by a softmax layer (at the end). This is normal, since we have a multi-class problem.\n",
    "\n",
    "\n",
    "First, we load the MNIST dataset."
   ]
  },
  {
   "cell_type": "code",
   "execution_count": 6,
   "metadata": {
    "id": "Z0cGLMKRRHA0"
   },
   "outputs": [],
   "source": [
    "# Import MNIST data\n",
    "mnist = tf.keras.datasets.mnist\n",
    "(X_train, y_train),(X_test, y_test) = mnist.load_data()\n",
    "\n",
    "Y_train = tf.keras.utils.to_categorical(y_train)  # in order to convert y to a matrix with (num_examples, num_classes) (one-hot encoding)\n",
    "Y_test = tf.keras.utils.to_categorical(y_test)  # in order to convert y to a matrix with (num_examples, num_classes) (one-hot encoding)\n",
    "\n",
    "#reshape the input images : flatten the last two dimensions\n",
    "X_train = np.reshape(X_train,(X_train.shape[0],X_train.shape[1]*X_train.shape[2]))\n",
    "X_test = np.reshape(X_test,(X_test.shape[0],X_test.shape[1]*X_test.shape[2]))\n"
   ]
  },
  {
   "cell_type": "markdown",
   "metadata": {
    "id": "EzMV_9-NRHA1"
   },
   "source": [
    "Finally, fill in the following code to create and train your MLP"
   ]
  },
  {
   "cell_type": "code",
   "execution_count": 7,
   "metadata": {
    "colab": {
     "base_uri": "https://localhost:8080/"
    },
    "id": "2G7AToqyRHA1",
    "outputId": "a8ac178f-23b4-47c2-87cd-816b2448942f"
   },
   "outputs": [
    {
     "name": "stdout",
     "output_type": "stream",
     "text": [
      "Training\n",
      "Epoch 1/20\n",
      "938/938 [==============================] - 3s 3ms/step - loss: 13.9410 - accuracy: 0.7480\n",
      "Epoch 2/20\n",
      "938/938 [==============================] - 3s 3ms/step - loss: 0.3595 - accuracy: 0.9062\n",
      "Epoch 3/20\n",
      "938/938 [==============================] - 3s 3ms/step - loss: 0.3532 - accuracy: 0.9098\n",
      "Epoch 4/20\n",
      "938/938 [==============================] - 3s 3ms/step - loss: 0.3879 - accuracy: 0.9038\n",
      "Epoch 5/20\n",
      "938/938 [==============================] - 3s 3ms/step - loss: 0.5160 - accuracy: 0.8792\n",
      "Epoch 6/20\n",
      "938/938 [==============================] - 3s 3ms/step - loss: 0.4406 - accuracy: 0.8949\n",
      "Epoch 7/20\n",
      "938/938 [==============================] - 3s 3ms/step - loss: 0.5793 - accuracy: 0.8441\n",
      "Epoch 8/20\n",
      "938/938 [==============================] - 3s 3ms/step - loss: 0.5335 - accuracy: 0.8567\n",
      "Epoch 9/20\n",
      "938/938 [==============================] - 3s 3ms/step - loss: 0.5184 - accuracy: 0.8576\n",
      "Epoch 10/20\n",
      "938/938 [==============================] - 3s 3ms/step - loss: 0.4575 - accuracy: 0.8948\n",
      "Epoch 11/20\n",
      "938/938 [==============================] - 3s 3ms/step - loss: 0.4138 - accuracy: 0.9022\n",
      "Epoch 12/20\n",
      "938/938 [==============================] - 3s 3ms/step - loss: 0.5189 - accuracy: 0.8666\n",
      "Epoch 13/20\n",
      "938/938 [==============================] - 3s 3ms/step - loss: 0.5485 - accuracy: 0.8526\n",
      "Epoch 14/20\n",
      "938/938 [==============================] - 3s 3ms/step - loss: 0.4779 - accuracy: 0.8738\n",
      "Epoch 15/20\n",
      "938/938 [==============================] - 3s 3ms/step - loss: 0.4521 - accuracy: 0.8897\n",
      "Epoch 16/20\n",
      "938/938 [==============================] - 3s 3ms/step - loss: 0.4536 - accuracy: 0.8883\n",
      "Epoch 17/20\n",
      "938/938 [==============================] - 3s 3ms/step - loss: 0.4918 - accuracy: 0.8883\n",
      "Epoch 18/20\n",
      "938/938 [==============================] - 3s 3ms/step - loss: 0.5009 - accuracy: 0.8819\n",
      "Epoch 19/20\n",
      "938/938 [==============================] - 3s 3ms/step - loss: 0.8573 - accuracy: 0.6911\n",
      "Epoch 20/20\n",
      "938/938 [==============================] - 3s 3ms/step - loss: 0.7216 - accuracy: 0.7698\n",
      "Testing\n",
      "313/313 - 1s - loss: 0.6522 - accuracy: 0.8130\n"
     ]
    },
    {
     "data": {
      "text/plain": [
       "[0.6521610617637634, 0.8130000233650208]"
      ]
     },
     "execution_count": 7,
     "metadata": {
      "tags": []
     },
     "output_type": "execute_result"
    }
   ],
   "source": [
    "\n",
    "# Network Parameters\n",
    "n_hidden_1 = 256 # 1st layer number of neurons\n",
    "n_hidden_2 = 256 # 2nd layer number of neurons\n",
    "n_hidden_3 = 128 # 2nd layer number of neurons\n",
    "\n",
    "n_input = X_train.shape[1]\n",
    "n_classes = Y_train.shape[1] # MNIST total classes (0-9 digits)\n",
    "\n",
    "# TO CODE BY STUDENTS\n",
    "\n",
    "\n",
    "model_mlp_multi_layer = Sequential([Dense(n_hidden_1, input_shape=(n_input,), activation='relu'),\n",
    "                                    Dense(n_hidden_2, input_shape=(n_hidden_1,), activation='relu'),\n",
    "                                    Dense(n_hidden_3, input_shape=(n_hidden_2,), activation='relu'),\n",
    "                                    Dense(n_classes, input_shape=(n_hidden_3,), activation='softmax')])\n",
    "\n",
    "# create the loss and optimiser, use 'categorical_crossentropy' in loss\n",
    "learning_rate = 0.01\n",
    "model_mlp_multi_layer.compile(loss='categorical_crossentropy',\n",
    "                              optimizer=optimizers.Adam(lr=learning_rate),\n",
    "                              metrics=[\"accuracy\"])\n",
    "\n",
    "# Run optimisation algorithm\n",
    "n_epochs = 20\n",
    "batch_size = 64\n",
    "\n",
    "print('Training')\n",
    "model_mlp_multi_layer.fit(X_train, Y_train, epochs=n_epochs, batch_size=batch_size)\n",
    "\n",
    "print('Testing')\n",
    "model_mlp_multi_layer.evaluate(X_test,  Y_test, verbose=2)"
   ]
  },
  {
   "cell_type": "code",
   "execution_count": 8,
   "metadata": {
    "id": "s6Q-JntxluxG"
   },
   "outputs": [],
   "source": [
    "# THIS CODE IS GIVEN\n",
    "\n",
    "def test_mnist_images(model_mlp_multi_layer,X_test):\n",
    "  plt.figure(figsize=(10, 6))\n",
    "  for idx in range(0,10):\n",
    "      plt.subplot(2, 5, idx+1)\n",
    "      rand_ind = np.random.randint(0,X_test.shape[0])\n",
    "      plt.imshow(np.reshape(X_test[rand_ind,:],(28,28)),cmap='gray')\n",
    "      # get prediction\n",
    "      model_prediction = np.argmax(model_mlp_multi_layer.predict(np.expand_dims( X_test[rand_ind,:], axis=0)),axis=1)\n",
    "      plt.title(int(model_prediction))"
   ]
  },
  {
   "cell_type": "code",
   "execution_count": 9,
   "metadata": {
    "colab": {
     "base_uri": "https://localhost:8080/",
     "height": 338
    },
    "id": "r2D9RE4apVWW",
    "outputId": "bcabc0b4-b99b-4bb2-a857-23bba022236f"
   },
   "outputs": [
    {
     "data": {
      "image/png": "[encoded data removed]",
      "text/plain": [
       "<Figure size 720x432 with 10 Axes>"
      ]
     },
     "metadata": {
      "needs_background": "light",
      "tags": []
     },
     "output_type": "display_data"
    }
   ],
   "source": [
    "test_mnist_images(model_mlp_multi_layer,X_test)"
   ]
  },
  {
   "cell_type": "markdown",
   "metadata": {
    "id": "lItdBVnfu7xK"
   },
   "source": [
    "You may observe some difficulties in getting good performance in this case. To improve training, we can turn to __regularisation__"
   ]
  },
  {
   "cell_type": "markdown",
   "metadata": {
    "id": "Vgao_U5XRHA2"
   },
   "source": [
    "## BATCH NORMALISATION\n",
    "\n",
    "One approach to regularisation which we have seen during the lesson is known as batch normalisation, which we have seen during the lesson. This can be implemented very simply in Tensorflow by adding the following layer :\n",
    "\n",
    "- ```BatchNormalization()```\n",
    "\n",
    "Change your model below, and implement this using your code above"
   ]
  },
  {
   "cell_type": "code",
   "execution_count": 10,
   "metadata": {
    "colab": {
     "base_uri": "https://localhost:8080/"
    },
    "id": "6Ela5-4XRHA2",
    "outputId": "6fa0780b-4cd3-4122-fda9-b1ffd1559b93"
   },
   "outputs": [
    {
     "name": "stdout",
     "output_type": "stream",
     "text": [
      "Training\n",
      "Epoch 1/20\n",
      "938/938 [==============================] - 6s 5ms/step - loss: 0.3410 - accuracy: 0.8961\n",
      "Epoch 2/20\n",
      "938/938 [==============================] - 5s 5ms/step - loss: 0.1286 - accuracy: 0.9602\n",
      "Epoch 3/20\n",
      "938/938 [==============================] - 5s 6ms/step - loss: 0.0941 - accuracy: 0.9717\n",
      "Epoch 4/20\n",
      "938/938 [==============================] - 5s 6ms/step - loss: 0.0814 - accuracy: 0.9748\n",
      "Epoch 5/20\n",
      "938/938 [==============================] - 5s 6ms/step - loss: 0.0672 - accuracy: 0.9789\n",
      "Epoch 6/20\n",
      "938/938 [==============================] - 5s 5ms/step - loss: 0.0666 - accuracy: 0.9790\n",
      "Epoch 7/20\n",
      "938/938 [==============================] - 5s 5ms/step - loss: 0.0585 - accuracy: 0.9810\n",
      "Epoch 8/20\n",
      "938/938 [==============================] - 5s 5ms/step - loss: 0.0463 - accuracy: 0.9850\n",
      "Epoch 9/20\n",
      "938/938 [==============================] - 5s 5ms/step - loss: 0.0439 - accuracy: 0.9859\n",
      "Epoch 10/20\n",
      "938/938 [==============================] - 5s 6ms/step - loss: 0.0395 - accuracy: 0.9870\n",
      "Epoch 11/20\n",
      "938/938 [==============================] - 5s 5ms/step - loss: 0.0376 - accuracy: 0.9884\n",
      "Epoch 12/20\n",
      "938/938 [==============================] - 5s 6ms/step - loss: 0.0311 - accuracy: 0.9899\n",
      "Epoch 13/20\n",
      "938/938 [==============================] - 5s 5ms/step - loss: 0.0283 - accuracy: 0.9908\n",
      "Epoch 14/20\n",
      "938/938 [==============================] - 5s 6ms/step - loss: 0.0295 - accuracy: 0.9904\n",
      "Epoch 15/20\n",
      "938/938 [==============================] - 5s 6ms/step - loss: 0.0281 - accuracy: 0.9909\n",
      "Epoch 16/20\n",
      "938/938 [==============================] - 5s 6ms/step - loss: 0.0226 - accuracy: 0.9927\n",
      "Epoch 17/20\n",
      "938/938 [==============================] - 5s 6ms/step - loss: 0.0251 - accuracy: 0.9918\n",
      "Epoch 18/20\n",
      "938/938 [==============================] - 5s 6ms/step - loss: 0.0194 - accuracy: 0.9938\n",
      "Epoch 19/20\n",
      "938/938 [==============================] - 5s 6ms/step - loss: 0.0204 - accuracy: 0.9939\n",
      "Epoch 20/20\n",
      "938/938 [==============================] - 5s 6ms/step - loss: 0.0216 - accuracy: 0.9933\n",
      "Testing\n",
      "313/313 - 1s - loss: 0.1496 - accuracy: 0.9819\n"
     ]
    },
    {
     "data": {
      "text/plain": [
       "[0.14955423772335052, 0.9818999767303467]"
      ]
     },
     "execution_count": 10,
     "metadata": {
      "tags": []
     },
     "output_type": "execute_result"
    }
   ],
   "source": [
    "from tensorflow.keras.layers import Dense, BatchNormalization\n",
    "\n",
    "# Network Parameters\n",
    "n_hidden_1 = 256 # 1st layer number of neurons\n",
    "n_hidden_2 = 256 # 2nd layer number of neurons\n",
    "n_hidden_3 = 128 # 2nd layer number of neurons\n",
    "\n",
    "n_input = X_train.shape[1]\n",
    "n_classes = Y_train.shape[1] # MNIST total classes (0-9 digits)\n",
    "\n",
    "# TO CODE BY STUDENTS\n",
    "\n",
    "\n",
    "model_mlp_multi_layer = Sequential([Dense(n_hidden_1, input_shape=(n_input,), activation='relu'),\n",
    "                                    BatchNormalization(),\n",
    "                                    Dense(n_hidden_2, activation='relu'),\n",
    "                                    BatchNormalization(),\n",
    "                                    Dense(n_hidden_3, activation='relu'),\n",
    "                                    BatchNormalization(),\n",
    "                                    Dense(n_classes, activation='softmax')])\n",
    "\n",
    "# create the loss and optimiser, use 'categorical_crossentropy' in loss\n",
    "learning_rate = 0.01\n",
    "model_mlp_multi_layer.compile(loss='categorical_crossentropy',\n",
    "                              optimizer=optimizers.Adam(lr=learning_rate),\n",
    "                              metrics=[\"accuracy\"])\n",
    "\n",
    "# Run optimisation algorithm\n",
    "n_epochs = 20\n",
    "batch_size = 64\n",
    "\n",
    "print('Training')\n",
    "model_mlp_multi_layer.fit(X_train, Y_train, epochs=n_epochs, batch_size=batch_size)\n",
    "\n",
    "print('Testing')\n",
    "model_mlp_multi_layer.evaluate(X_test,  Y_test, verbose=2)\n"
   ]
  },
  {
   "cell_type": "code",
   "execution_count": 11,
   "metadata": {
    "colab": {
     "base_uri": "https://localhost:8080/",
     "height": 338
    },
    "id": "cSxGzvQ3pg3u",
    "outputId": "fc4890e5-8bca-4650-9ab9-ade8abbb6069"
   },
   "outputs": [
    {
     "data": {
      "image/png": "[encoded data removed]",
      "text/plain": [
       "<Figure size 720x432 with 10 Axes>"
      ]
     },
     "metadata": {
      "needs_background": "light",
      "tags": []
     },
     "output_type": "display_data"
    }
   ],
   "source": [
    "test_mnist_images(model_mlp_multi_layer,X_test)"
   ]
  },
  {
   "cell_type": "markdown",
   "metadata": {
    "id": "Wp2VIfZ1v7lN"
   },
   "source": [
    "Question : do you observe improved convergence ?\n",
    "\n",
    "Answer : Yes, the accuracy has increased much faster than without batch normalization and it has reached a much higher final score. Without this normalization the test score was 0.81 and now it is 0.99."
   ]
  },
  {
   "cell_type": "markdown",
   "metadata": {
    "id": "Y2CWgKZeRHA2"
   },
   "source": [
    "#### Documentation:\n",
    "\n",
    "  - http://www.tensorflow.org\n",
    "  - http://www.deeplearningbook.org/"
   ]
  }
 ],
 "metadata": {
  "accelerator": "GPU",
  "colab": {
   "collapsed_sections": [],
   "name": "TP_ann_mlp_part_2_students.ipynb",
   "provenance": []
  },
  "kernelspec": {
   "display_name": "Python 3 (ipykernel)",
   "language": "python",
   "name": "python3"
  },
  "language_info": {
   "codemirror_mode": {
    "name": "ipython",
    "version": 3
   },
   "file_extension": ".py",
   "mimetype": "text/x-python",
   "name": "python",
   "nbconvert_exporter": "python",
   "pygments_lexer": "ipython3",
   "version": "3.8.3"
  }
 },
 "nbformat": 4,
 "nbformat_minor": 1
}
